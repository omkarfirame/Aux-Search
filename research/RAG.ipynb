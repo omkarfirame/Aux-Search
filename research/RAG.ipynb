{
 "cells": [
  {
   "cell_type": "markdown",
   "metadata": {},
   "source": [
    "# Process Flow for RAG application\n",
    "\n",
    "1. Load the file (PDF, HTML etc)\n",
    "2. Transform the data (converting into chunks)\n",
    "3. Create Embeddings\n",
    "4. Store embeddings in vector database\n",
    "5. Use Chain and Retriver\n"
   ]
  },
  {
   "cell_type": "code",
   "execution_count": 1,
   "metadata": {},
   "outputs": [
    {
     "name": "stderr",
     "output_type": "stream",
     "text": [
      "c:\\Users\\Omkar\\Anaconda3\\envs\\pyenv\\lib\\site-packages\\tqdm\\auto.py:21: TqdmWarning: IProgress not found. Please update jupyter and ipywidgets. See https://ipywidgets.readthedocs.io/en/stable/user_install.html\n",
      "  from .autonotebook import tqdm as notebook_tqdm\n"
     ]
    }
   ],
   "source": [
    "from langchain_community.document_loaders import PyPDFLoader\n",
    "from langchain.text_splitter import RecursiveCharacterTextSplitter\n",
    "from langchain_google_genai import GoogleGenerativeAIEmbeddings\n",
    "from langchain_community.embeddings import OllamaEmbeddings\n",
    "from langchain.vectorstores import FAISS\n",
    "from langchain_community.llms import Ollama\n"
   ]
  },
  {
   "cell_type": "code",
   "execution_count": 2,
   "metadata": {},
   "outputs": [
    {
     "data": {
      "text/plain": [
       "[Document(page_content=\"Omkar\\nFirame\\n+919404350615\\n|\\nE-Mail\\n|\\nLinkedin\\n|\\nGitHub\\nSUMMAR Y:\\nExperienced\\nData\\nScientist\\nadept\\nat\\ndeveloping\\nadvanced\\nmachine\\nlearning\\nmodels\\nand\\nharnessing\\ndata-driven\\nstrategies\\nto\\ntackle\\nintricate\\nbusiness\\nproblems\\neffectively .\\nTECHNICAL\\nSKILLS:\\nPython,\\nR,\\nMachine\\nLearning,\\nDeep\\nLearning,\\nPyTorch,\\nIguazio,\\nKubeFlow\\nPipeline,\\nAzure\\nDatabricks,\\nDask,\\nWeb\\nScraping\\n(Selenium),\\nGit,\\nLangchain,\\nGenerative\\nAI\\nEXPERIENCE:\\nData\\nScientist\\n-\\nWynum\\nAutomation\\nServices\\nPvt.\\nLtd\\n|\\nApril\\n2023\\n-\\nPresent\\n●\\nManaged\\na\\nproject\\nimplementing\\nan\\ninformation\\nretrieval\\nsystem\\nfor\\nextracting\\nrelevant\\npress\\nreleases\\nfrom\\nonline\\nsources.\\n●\\nApplied\\nadvanced\\ndata\\npreprocessing\\ntechniques\\nto\\ncleanse\\nand\\nstructure\\ncontent,\\nenhancing\\ncategorization\\nand\\nanalytical\\ncapabilities.\\n●\\nDeveloped\\ncustom\\nweb\\nscrapers\\nusing\\nPython\\n(Beautiful\\nSoup,\\nRequests)\\nfor\\nprecise\\nand\\ntargeted\\ncontent\\nextraction.\\nInitiated\\nan\\nindependent\\nproject\\nto\\nautomate\\nDOCX\\nfile\\ngeneration\\nfrom\\ntext\\ndata.\\nData\\nScientist\\n-\\nTata\\nConsultancy\\nServices\\n|\\nFeb\\n2021\\n-\\nMarch\\n2023\\n●\\nContributed\\nto\\ndata\\ninitiatives,\\nassisting\\nwith\\nData\\nextraction\\nfrom\\nazure\\ndatalake,\\ncleaning,\\ntransformation,\\nand\\nmodel\\nbuilding\\nprocesses.\\n●\\nEngineered\\nand\\nimplemented\\nrobust\\npipelines,\\nutilizing\\nKubeFlow ,\\na\\ncustom\\nManual\\npipeline,\\nand\\nthe\\nmlrun\\nMLOps\\norchestration\\nframework\\non\\nthe\\nIguazio\\nplatform,\\nensuring\\nseamless\\nautomation\\non\\na\\nscheduled\\nbasis.\\n●\\nOrchestrated\\ndata\\ntransformations\\nto\\nmeet\\nAPI\\nrequirements,\\nsystematically\\nschematizing\\ndatasets\\nfor\\nenhanced\\ncompatibility\\nand\\nintegration.\\nApplied\\nDask\\ndistributed\\ncomputing\\nfor\\nefficient\\nhandling\\nof\\nlarge-scale\\ndatasets,\\noptimizing\\ndata\\nprocessing\\nand\\nanalysis\\nworkflows.\\nIntern\\n-\\nThoughtworks\\nTechnologies\\nIndia\\nPvt.\\nLtd\\n|\\nJan\\n2020\\n-\\nSept\\n-\\n2020\\n●\\nPioneered\\nthe\\napplication\\nof\\nmachine\\nlearning\\nin\\nthe\\nmedical\\ndomain,\\nfocusing\\non\\npredicting\\ndrug\\nproperties\\nbased\\non\\nchemical\\ncomposition.\\n●\\nAutomated\\nraw\\ndata\\nprocessing\\nwith\\nPython\\nscripts\\nand\\nkey\\nlibraries\\n(chemoPy ,\\nPyBioMed,\\nModred),\\nstreamlining\\ndata\\npreparation\\nfor\\npredictive\\nmodeling.\\n●\\nDemonstrated\\nexpertise\\nin\\ndrug\\ntoxicity\\nprediction,\\nsecuring\\n6th\\nposition\\nin\\nthe\\nTox21\\nchallenge\\n(2014-15)\\nwith\\nan\\noutstanding\\naverage\\nAUC\\nscore\\nof\\n0.8347.\\nPROJECTS:\\nText\\nSummarization\\n-\\n[\\nLink\\n]\\nDeveloped\\na\\nText\\nSummarization\\nproject\\nusing\\nT5\\nmode\\nin\\nsystematic\\nand\\norganized\\nmanner ,\\nleveraging\\nStreamlit\\nfor\\nan\\nintuitive\\nuser\\ninterface\\nthat\\nenhances\\nuser\\nexperience\\nand\\ninteraction.\\nAux-Search\\n-\\n[\\nLink\\n]\\nDeveloped\\na\\nRAG\\nlocal\\nsystem\\nusing\\nGoogle\\nGemini\\nto\\nextract\\ninformation\\nbased\\non\\ngiven\\ninput.\\nEmployed\\nFlask\\nframework\\nto\\ndevelop\\na\\nuser-friendly\\nweb\\napplication\\ninterface,\\nenhancing\\naccessibility\\nand\\nusability\\nEDUCA TION\\n-\\nM.TECH\\n-\\nMathematical\\nModeling\\nAnd\\nSimulation\\n-\\nCentre\\nfor\\nModelling\\nand\\nSimulation,\\nSPPU,\\nPune\\n|\\n2020\\nB.E\\n-\\nMechanical\\nEngineering\\n-\\nBharti\\nVidyapeeth's\\nCollege\\nof\\nEngineering,\\nKolhapur\\n|\\n|\\n2016\", metadata={'source': 'C:\\\\Users\\\\omkar\\\\OneDrive\\\\Desktop\\\\Omkar\\\\Resume\\\\Omkar_Firame_Resume.pdf', 'page': 0})]"
      ]
     },
     "execution_count": 2,
     "metadata": {},
     "output_type": "execute_result"
    }
   ],
   "source": [
    "# load the pdf\n",
    "\n",
    "pdf_loader = PyPDFLoader(\"C:\\\\Users\\\\omkar\\\\OneDrive\\\\Desktop\\\\Omkar\\\\Resume\\\\Omkar_Firame_Resume.pdf\")\n",
    "docs = pdf_loader.load()\n",
    "docs"
   ]
  },
  {
   "cell_type": "code",
   "execution_count": 3,
   "metadata": {},
   "outputs": [
    {
     "data": {
      "text/plain": [
       "[Document(page_content='Omkar\\nFirame\\n+919404350615\\n|\\nE-Mail\\n|\\nLinkedin\\n|\\nGitHub\\nSUMMAR Y:\\nExperienced\\nData\\nScientist\\nadept\\nat\\ndeveloping\\nadvanced\\nmachine\\nlearning\\nmodels\\nand\\nharnessing\\ndata-driven\\nstrategies\\nto\\ntackle\\nintricate\\nbusiness\\nproblems\\neffectively .\\nTECHNICAL\\nSKILLS:\\nPython,\\nR,\\nMachine\\nLearning,\\nDeep\\nLearning,\\nPyTorch,\\nIguazio,\\nKubeFlow\\nPipeline,\\nAzure\\nDatabricks,\\nDask,\\nWeb\\nScraping\\n(Selenium),\\nGit,\\nLangchain,\\nGenerative\\nAI\\nEXPERIENCE:\\nData\\nScientist\\n-\\nWynum\\nAutomation\\nServices\\nPvt.\\nLtd\\n|\\nApril\\n2023\\n-\\nPresent\\n●\\nManaged\\na\\nproject\\nimplementing\\nan\\ninformation\\nretrieval\\nsystem\\nfor\\nextracting\\nrelevant\\npress\\nreleases\\nfrom\\nonline\\nsources.\\n●\\nApplied\\nadvanced\\ndata\\npreprocessing\\ntechniques\\nto\\ncleanse\\nand\\nstructure\\ncontent,\\nenhancing\\ncategorization\\nand\\nanalytical\\ncapabilities.\\n●\\nDeveloped\\ncustom\\nweb\\nscrapers\\nusing\\nPython\\n(Beautiful\\nSoup,\\nRequests)\\nfor\\nprecise\\nand\\ntargeted\\ncontent\\nextraction.\\nInitiated\\nan\\nindependent\\nproject\\nto\\nautomate\\nDOCX\\nfile\\ngeneration\\nfrom\\ntext\\ndata.\\nData\\nScientist\\n-\\nTata\\nConsultancy', metadata={'source': 'C:\\\\Users\\\\omkar\\\\OneDrive\\\\Desktop\\\\Omkar\\\\Resume\\\\Omkar_Firame_Resume.pdf', 'page': 0}),\n",
       " Document(page_content='Python\\n(Beautiful\\nSoup,\\nRequests)\\nfor\\nprecise\\nand\\ntargeted\\ncontent\\nextraction.\\nInitiated\\nan\\nindependent\\nproject\\nto\\nautomate\\nDOCX\\nfile\\ngeneration\\nfrom\\ntext\\ndata.\\nData\\nScientist\\n-\\nTata\\nConsultancy\\nServices\\n|\\nFeb\\n2021\\n-\\nMarch\\n2023\\n●\\nContributed\\nto\\ndata\\ninitiatives,\\nassisting\\nwith\\nData\\nextraction\\nfrom\\nazure\\ndatalake,\\ncleaning,\\ntransformation,\\nand\\nmodel\\nbuilding\\nprocesses.\\n●\\nEngineered\\nand\\nimplemented\\nrobust\\npipelines,\\nutilizing\\nKubeFlow ,\\na\\ncustom\\nManual\\npipeline,\\nand\\nthe\\nmlrun\\nMLOps\\norchestration\\nframework\\non\\nthe\\nIguazio\\nplatform,\\nensuring\\nseamless\\nautomation\\non\\na\\nscheduled\\nbasis.\\n●\\nOrchestrated\\ndata\\ntransformations\\nto\\nmeet\\nAPI\\nrequirements,\\nsystematically\\nschematizing\\ndatasets\\nfor\\nenhanced\\ncompatibility\\nand\\nintegration.\\nApplied\\nDask\\ndistributed\\ncomputing\\nfor\\nefficient\\nhandling\\nof\\nlarge-scale\\ndatasets,\\noptimizing\\ndata\\nprocessing\\nand\\nanalysis\\nworkflows.\\nIntern\\n-\\nThoughtworks\\nTechnologies\\nIndia\\nPvt.\\nLtd\\n|\\nJan\\n2020\\n-\\nSept\\n-\\n2020\\n●\\nPioneered\\nthe\\napplication\\nof\\nmachine\\nlearning\\nin\\nthe\\nmedical', metadata={'source': 'C:\\\\Users\\\\omkar\\\\OneDrive\\\\Desktop\\\\Omkar\\\\Resume\\\\Omkar_Firame_Resume.pdf', 'page': 0}),\n",
       " Document(page_content='datasets,\\noptimizing\\ndata\\nprocessing\\nand\\nanalysis\\nworkflows.\\nIntern\\n-\\nThoughtworks\\nTechnologies\\nIndia\\nPvt.\\nLtd\\n|\\nJan\\n2020\\n-\\nSept\\n-\\n2020\\n●\\nPioneered\\nthe\\napplication\\nof\\nmachine\\nlearning\\nin\\nthe\\nmedical\\ndomain,\\nfocusing\\non\\npredicting\\ndrug\\nproperties\\nbased\\non\\nchemical\\ncomposition.\\n●\\nAutomated\\nraw\\ndata\\nprocessing\\nwith\\nPython\\nscripts\\nand\\nkey\\nlibraries\\n(chemoPy ,\\nPyBioMed,\\nModred),\\nstreamlining\\ndata\\npreparation\\nfor\\npredictive\\nmodeling.\\n●\\nDemonstrated\\nexpertise\\nin\\ndrug\\ntoxicity\\nprediction,\\nsecuring\\n6th\\nposition\\nin\\nthe\\nTox21\\nchallenge\\n(2014-15)\\nwith\\nan\\noutstanding\\naverage\\nAUC\\nscore\\nof\\n0.8347.\\nPROJECTS:\\nText\\nSummarization\\n-\\n[\\nLink\\n]\\nDeveloped\\na\\nText\\nSummarization\\nproject\\nusing\\nT5\\nmode\\nin\\nsystematic\\nand\\norganized\\nmanner ,\\nleveraging\\nStreamlit\\nfor\\nan\\nintuitive\\nuser\\ninterface\\nthat\\nenhances\\nuser\\nexperience\\nand\\ninteraction.\\nAux-Search\\n-\\n[\\nLink\\n]\\nDeveloped\\na\\nRAG\\nlocal\\nsystem\\nusing\\nGoogle\\nGemini\\nto\\nextract\\ninformation\\nbased\\non\\ngiven\\ninput.\\nEmployed\\nFlask\\nframework\\nto\\ndevelop\\na\\nuser-friendly\\nweb', metadata={'source': 'C:\\\\Users\\\\omkar\\\\OneDrive\\\\Desktop\\\\Omkar\\\\Resume\\\\Omkar_Firame_Resume.pdf', 'page': 0}),\n",
       " Document(page_content=\"experience\\nand\\ninteraction.\\nAux-Search\\n-\\n[\\nLink\\n]\\nDeveloped\\na\\nRAG\\nlocal\\nsystem\\nusing\\nGoogle\\nGemini\\nto\\nextract\\ninformation\\nbased\\non\\ngiven\\ninput.\\nEmployed\\nFlask\\nframework\\nto\\ndevelop\\na\\nuser-friendly\\nweb\\napplication\\ninterface,\\nenhancing\\naccessibility\\nand\\nusability\\nEDUCA TION\\n-\\nM.TECH\\n-\\nMathematical\\nModeling\\nAnd\\nSimulation\\n-\\nCentre\\nfor\\nModelling\\nand\\nSimulation,\\nSPPU,\\nPune\\n|\\n2020\\nB.E\\n-\\nMechanical\\nEngineering\\n-\\nBharti\\nVidyapeeth's\\nCollege\\nof\\nEngineering,\\nKolhapur\\n|\\n|\\n2016\", metadata={'source': 'C:\\\\Users\\\\omkar\\\\OneDrive\\\\Desktop\\\\Omkar\\\\Resume\\\\Omkar_Firame_Resume.pdf', 'page': 0})]"
      ]
     },
     "execution_count": 3,
     "metadata": {},
     "output_type": "execute_result"
    }
   ],
   "source": [
    "# Transform the data\n",
    "\"\"\"\n",
    "chunk_size - max number of characters in one chunk\n",
    "chunk_overlap - max number of characters that can be overlapped between 2 chunks \n",
    "\"\"\"\n",
    "text_splitter = RecursiveCharacterTextSplitter(chunk_size = 1000, chunk_overlap = 200)\n",
    "split = text_splitter.split_documents(docs)\n",
    "split"
   ]
  },
  {
   "cell_type": "code",
   "execution_count": 4,
   "metadata": {},
   "outputs": [],
   "source": [
    "# Create embeddings and store in vector database\n",
    "vectorstore = FAISS.from_documents(documents=split, embedding=OllamaEmbeddings())\n"
   ]
  },
  {
   "cell_type": "code",
   "execution_count": 5,
   "metadata": {},
   "outputs": [
    {
     "data": {
      "text/plain": [
       "Ollama()"
      ]
     },
     "execution_count": 5,
     "metadata": {},
     "output_type": "execute_result"
    }
   ],
   "source": [
    "# model\n",
    "model = Ollama(model=\"llama2\")\n",
    "model"
   ]
  },
  {
   "cell_type": "code",
   "execution_count": 6,
   "metadata": {},
   "outputs": [],
   "source": [
    "# Prompt\n",
    "\n",
    "from langchain_core.prompts import ChatPromptTemplate\n",
    "prompt = ChatPromptTemplate.from_template(\"\"\"\n",
    "Answer the following question based on the provided context. Think step by step before providing the answer. \n",
    "NOTE: Do not make up the answer. Provide the answer as text only.\n",
    "Context: {context}\n",
    "Question: {input}\n",
    "Answer:\n",
    "\"\"\")"
   ]
  },
  {
   "cell_type": "code",
   "execution_count": 7,
   "metadata": {},
   "outputs": [],
   "source": [
    "# Chain\n",
    "from langchain.chains.combine_documents import create_stuff_documents_chain\n",
    "chain = create_stuff_documents_chain(model,prompt)"
   ]
  },
  {
   "cell_type": "code",
   "execution_count": 8,
   "metadata": {},
   "outputs": [
    {
     "data": {
      "text/plain": [
       "VectorStoreRetriever(tags=['FAISS', 'OllamaEmbeddings'], vectorstore=<langchain_community.vectorstores.faiss.FAISS object at 0x000001F17BA05340>)"
      ]
     },
     "execution_count": 8,
     "metadata": {},
     "output_type": "execute_result"
    }
   ],
   "source": [
    "# retriver\n",
    "retriver = vectorstore.as_retriever()\n",
    "retriver\n"
   ]
  },
  {
   "cell_type": "code",
   "execution_count": 9,
   "metadata": {},
   "outputs": [],
   "source": [
    "# retriver chain\n",
    "from langchain.chains import create_retrieval_chain\n",
    "\n",
    "retriver_chain = create_retrieval_chain(retriver,chain)"
   ]
  },
  {
   "cell_type": "code",
   "execution_count": 10,
   "metadata": {},
   "outputs": [],
   "source": [
    "response = retriver_chain.invoke({\"input\":\"Name on the resume\"})"
   ]
  },
  {
   "cell_type": "code",
   "execution_count": 11,
   "metadata": {},
   "outputs": [
    {
     "data": {
      "text/plain": [
       "'The name of the person listed on the resume is Omkar Firame.'"
      ]
     },
     "execution_count": 11,
     "metadata": {},
     "output_type": "execute_result"
    }
   ],
   "source": [
    "response['answer']"
   ]
  },
  {
   "cell_type": "code",
   "execution_count": null,
   "metadata": {},
   "outputs": [],
   "source": []
  }
 ],
 "metadata": {
  "kernelspec": {
   "display_name": "pyenv",
   "language": "python",
   "name": "python3"
  },
  "language_info": {
   "codemirror_mode": {
    "name": "ipython",
    "version": 3
   },
   "file_extension": ".py",
   "mimetype": "text/x-python",
   "name": "python",
   "nbconvert_exporter": "python",
   "pygments_lexer": "ipython3",
   "version": "3.9.0"
  }
 },
 "nbformat": 4,
 "nbformat_minor": 2
}
